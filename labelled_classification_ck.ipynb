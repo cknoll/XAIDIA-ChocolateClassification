{
 "cells": [
  {
   "cell_type": "code",
   "execution_count": 1,
   "metadata": {},
   "outputs": [],
   "source": [
    "import os\n",
    "import importlib as il\n",
    "\n",
    "import pandas as pd\n",
    "import numpy as np\n",
    "import importlib as il\n",
    "import matplotlib.pyplot as plt\n",
    "import plotly.express as px\n",
    "import plotly.graph_objects as go\n",
    "import seaborn as sns\n",
    "from PIL import Image\n",
    "\n",
    "import torch\n",
    "from torch.utils.data import Dataset, random_split, DataLoader\n",
    "from torch.utils.data.sampler import Sampler\n",
    "import torch.optim as optim\n",
    "from torchvision import transforms, models\n",
    "\n",
    "import classification_methods as clm\n",
    "from mlcm import mlcm\n",
    "\n",
    "%matplotlib inline\n"
   ]
  },
  {
   "cell_type": "code",
   "execution_count": 2,
   "metadata": {},
   "outputs": [
    {
     "name": "stdout",
     "output_type": "stream",
     "text": [
      "Total groups read: 15\n"
     ]
    }
   ],
   "source": [
    "from approach2 import model_evaluation as me"
   ]
  },
  {
   "cell_type": "code",
   "execution_count": 50,
   "metadata": {},
   "outputs": [
    {
     "name": "stdout",
     "output_type": "stream",
     "text": [
      "Total groups read: 15\n",
      "ChocolateCNN\n",
      "ChocolateCNN\n",
      "Loaded model type: ChocolateCNN, epoch: 20, validation accuracy: 97.37076648841355%\n"
     ]
    }
   ],
   "source": [
    "il.reload(clm)\n",
    "il.reload(me)\n",
    "\n",
    "m = me.Manager()\n",
    "\n",
    "m.load_model(f\"{me.PARENT_DIR}/classification_models/CNN_3.pth\")\n",
    "# m.plot_training_curves()"
   ]
  },
  {
   "cell_type": "code",
   "execution_count": 51,
   "metadata": {},
   "outputs": [
    {
     "name": "stderr",
     "output_type": "stream",
     "text": [
      "100%|████████████████████████████████████████████████████████████████████████████████████████████████████████████████████████████████████████████████████████████████████████████████████████████████████| 500/500 [00:00<00:00, 686.65it/s]\n"
     ]
    }
   ],
   "source": [
    "m.make_predictions(limit=50)"
   ]
  },
  {
   "cell_type": "code",
   "execution_count": 56,
   "metadata": {},
   "outputs": [
    {
     "data": {
      "text/plain": [
       "500"
      ]
     },
     "execution_count": 56,
     "metadata": {},
     "output_type": "execute_result"
    }
   ],
   "source": [
    "q = m.predictions[0]\n",
    "len(m.predictions)"
   ]
  },
  {
   "cell_type": "code",
   "execution_count": 57,
   "metadata": {},
   "outputs": [
    {
     "data": {
      "text/plain": [
       "{'filename': 'b9_s82_2023-06-27_04-18-57_C0_b9.jpg',\n",
       " 'leichte durchscheinende Füllung': 0,\n",
       " 'mittlere durchscheinende Füllung': 1,\n",
       " 'starke durchscheinende Füllung': 0,\n",
       " 'Bläschen': 0,\n",
       " 'Füllung über Rand hinaus': 0,\n",
       " 'Kratzer/Späne auf Deckel': 0,\n",
       " 'Zelle falsch erkannt': 0,\n",
       " 'small bright area on upper border': 0,\n",
       " 'sonstiger Fehler': 0}"
      ]
     },
     "execution_count": 57,
     "metadata": {},
     "output_type": "execute_result"
    }
   ],
   "source": [
    "q"
   ]
  }
 ],
 "metadata": {
  "kernelspec": {
   "display_name": "Python 3 (ipykernel)",
   "language": "python",
   "name": "python3"
  },
  "language_info": {
   "codemirror_mode": {
    "name": "ipython",
    "version": 3
   },
   "file_extension": ".py",
   "mimetype": "text/x-python",
   "name": "python",
   "nbconvert_exporter": "python",
   "pygments_lexer": "ipython3",
   "version": "3.11.9"
  },
  "vscode": {
   "interpreter": {
    "hash": "1ccd40bcc000b7a7cf40402755891779d0f67280314eb8adf598b00e0d55ca52"
   }
  }
 },
 "nbformat": 4,
 "nbformat_minor": 4
}
