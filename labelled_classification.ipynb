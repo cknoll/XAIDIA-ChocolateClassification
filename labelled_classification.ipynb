{
 "cells": [
  {
   "cell_type": "code",
   "execution_count": 44,
   "metadata": {},
   "outputs": [
    {
     "name": "stdout",
     "output_type": "stream",
     "text": [
      "Total groups read: 15\n"
     ]
    }
   ],
   "source": [
    "import os\n",
    "import pandas as pd\n",
    "import numpy as np\n",
    "import torch\n",
    "from torch.utils.data import Dataset\n",
    "from PIL import Image\n",
    "from torchvision import transforms, models\n",
    "import importlib as il\n",
    "import matplotlib.pyplot as plt\n",
    "import plotly.express as px\n",
    "import plotly.graph_objects as go\n",
    "from torch.utils.data.sampler import Sampler\n",
    "import torch\n",
    "from torch.utils.data import random_split\n",
    "from torch.utils.data import DataLoader\n",
    "import torch\n",
    "import torch.nn as nn\n",
    "import torch.optim as optim\n",
    "import torch\n",
    "import torch.nn as nn\n",
    "import torch.optim as optim\n",
    "import classification_methods as clm\n",
    "\n",
    "import importlib as il\n",
    "\n",
    "il.reload(clm)\n",
    "\n",
    "folder_path = './labels'\n",
    "combined_df = clm.read_and_combine_csvs(folder_path)\n",
    "\n",
    "# print(combined_df.head())\n",
    "group_data = clm.read_csvs_by_group(folder_path)\n",
    "\n",
    "# Class names \n",
    "label_names = [\n",
    "    \"leichte durchscheinende Füllung\", \n",
    "    \"mittlere durchscheinende Füllung\", \n",
    "    \"starke durchscheinende Füllung\", \n",
    "    \"Bläschen\", \n",
    "    \"Füllung über Rand hinaus\", \n",
    "    \"Kratzer/Späne auf Deckel\",\n",
    "    \"Zelle falsch erkannt\", \n",
    "    \"small bright area on upper border\", \n",
    "    \"sonstiger Fehler\"\n",
    "]"
   ]
  },
  {
   "cell_type": "code",
   "execution_count": null,
   "metadata": {},
   "outputs": [],
   "source": [
    "# Sum the frequency of each label\n",
    "label_frequencies = combined_df.iloc[:, 1:].sum()\n",
    "\n",
    "# Display the label frequencies\n",
    "print(label_frequencies)\n",
    "\n",
    "# Plot the histogram\n",
    "plt.figure(figsize=(12, 6))\n",
    "label_frequencies.plot(kind='bar')\n",
    "plt.title('Frequency of Each Label')\n",
    "plt.xlabel('Labels')\n",
    "plt.ylabel('Frequency')\n",
    "plt.xticks(rotation=45)\n",
    "plt.show()\n",
    "\n",
    "label_frequencies_by_group = clm.extract_label_frequencies(group_data)\n",
    "# Plot the interactive box plot\n",
    "clm.plot_interactive_box_plot(label_frequencies_by_group)\n"
   ]
  },
  {
   "cell_type": "code",
   "execution_count": null,
   "metadata": {},
   "outputs": [],
   "source": [
    "# Plot histograms for each group\n",
    "clm.plot_histograms_for_groups(group_data)\n"
   ]
  },
  {
   "cell_type": "code",
   "execution_count": 45,
   "metadata": {},
   "outputs": [
    {
     "name": "stdout",
     "output_type": "stream",
     "text": [
      "Using device: cuda\n"
     ]
    }
   ],
   "source": [
    "il.reload(clm)\n",
    "image_dir = './results' \n",
    "# Check if CUDA is available\n",
    "device = torch.device(\"cuda\" if torch.cuda.is_available() else \"cpu\")\n",
    "print(f\"Using device: {device}\")\n",
    "\n",
    "model_type = 'ChocolateCNN'  # Choose 'ResNet50' or 'ChocolateCNN' or 'ImprovedCNN'\n",
    "num_epochs=20\n",
    "learning_rate=0.001\n",
    "\n",
    "if model_type == 'ChocolateCNN':\n",
    "    input_size = (100, 25)  # Adjusted for ChocolateCNN input size\n",
    "    model = clm.ChocolateCNN().to(device)\n",
    "elif model_type == 'ImprovedCNN':\n",
    "    input_size = (100, 25)  # Adjusted for ImprovedCNN input size\n",
    "    model = clm.ImprovedCNN().to(device)\n",
    "elif model_type == 'ResNet50':\n",
    "    input_size = (224, 224)  # ResNet-50 expects 224x224 images\n",
    "    model = clm.get_resnet50_model().to(device)\n",
    "else:\n",
    "    raise ValueError(\"Invalid model type. Choose 'ChocolateCNN' or 'ResNet50' or 'ImprovedCNN'.\")\n",
    "\n",
    "# Get data loaders\n",
    "train_loader, val_loader, val_indices = clm.get_data_loaders(image_dir, input_size, combined_df)"
   ]
  },
  {
   "cell_type": "code",
   "execution_count": 46,
   "metadata": {},
   "outputs": [
    {
     "name": "stdout",
     "output_type": "stream",
     "text": [
      "Label distribution in the batch (multi-label):\n",
      "Label 0: 6 samples\n",
      "Label 1: 3 samples\n",
      "Label 2: 5 samples\n",
      "Label 3: 8 samples\n",
      "Label 4: 2 samples\n",
      "Label 5: 10 samples\n",
      "Label 6: 9 samples\n",
      "Label 7: 10 samples\n",
      "Label 8: 5 samples\n"
     ]
    }
   ],
   "source": [
    "il.reload(clm)\n",
    "# Get a batch from the train_loader\n",
    "data_iter = iter(train_loader)\n",
    "images, labels = next(data_iter)  \n",
    "\n",
    "# Convert labels to numpy array\n",
    "labels_np = labels.numpy()\n",
    "\n",
    "# Sum across the batch axis (axis=0) to get the count of each label\n",
    "label_counts = np.sum(labels_np, axis=0)\n",
    "\n",
    "# Print the label distribution in the batch\n",
    "print(\"Label distribution in the batch (multi-label):\")\n",
    "for idx, count in enumerate(label_counts):\n",
    "    print(f\"Label {idx}: {int(count)} samples\")"
   ]
  },
  {
   "cell_type": "code",
   "execution_count": 48,
   "metadata": {},
   "outputs": [
    {
     "name": "stdout",
     "output_type": "stream",
     "text": [
      "Epoch [1/20], Train Loss: 0.2415\n",
      "Validation Loss: 0.1497, Accuracy: 95.76%, Hard Accuracy: 69.79%\n",
      "Epoch [2/20], Train Loss: 0.1288\n",
      "Validation Loss: 0.1357, Accuracy: 95.92%, Hard Accuracy: 70.99%\n",
      "Epoch [3/20], Train Loss: 0.1010\n",
      "Validation Loss: 0.1371, Accuracy: 95.47%, Hard Accuracy: 67.85%\n",
      "Epoch [4/20], Train Loss: 0.0861\n",
      "Validation Loss: 0.0984, Accuracy: 96.49%, Hard Accuracy: 74.67%\n",
      "Epoch [5/20], Train Loss: 0.0737\n",
      "Validation Loss: 0.1088, Accuracy: 96.12%, Hard Accuracy: 70.79%\n",
      "Epoch [6/20], Train Loss: 0.0738\n",
      "Validation Loss: 0.1425, Accuracy: 94.70%, Hard Accuracy: 61.90%\n",
      "Epoch [7/20], Train Loss: 0.0663\n",
      "Validation Loss: 0.1185, Accuracy: 95.96%, Hard Accuracy: 69.45%\n",
      "Epoch [8/20], Train Loss: 0.0620\n",
      "Validation Loss: 0.1152, Accuracy: 96.50%, Hard Accuracy: 75.80%\n",
      "Epoch [9/20], Train Loss: 0.0602\n",
      "Validation Loss: 0.0926, Accuracy: 96.84%, Hard Accuracy: 77.67%\n",
      "Epoch [10/20], Train Loss: 0.0538\n",
      "Validation Loss: 0.0893, Accuracy: 96.95%, Hard Accuracy: 79.81%\n",
      "Epoch [11/20], Train Loss: 0.0520\n",
      "Validation Loss: 0.0969, Accuracy: 96.73%, Hard Accuracy: 77.47%\n",
      "Epoch [12/20], Train Loss: 0.0501\n",
      "Validation Loss: 0.0880, Accuracy: 97.14%, Hard Accuracy: 80.55%\n",
      "Epoch [13/20], Train Loss: 0.0459\n",
      "Validation Loss: 0.1023, Accuracy: 96.67%, Hard Accuracy: 76.40%\n",
      "Epoch [14/20], Train Loss: 0.0473\n",
      "Validation Loss: 0.0876, Accuracy: 96.90%, Hard Accuracy: 78.68%\n",
      "Epoch [15/20], Train Loss: 0.0461\n",
      "Validation Loss: 0.1056, Accuracy: 96.70%, Hard Accuracy: 76.47%\n",
      "Epoch [16/20], Train Loss: 0.0421\n",
      "Validation Loss: 0.0880, Accuracy: 97.04%, Hard Accuracy: 79.81%\n",
      "Epoch [17/20], Train Loss: 0.0404\n",
      "Validation Loss: 0.0886, Accuracy: 97.27%, Hard Accuracy: 81.95%\n",
      "Epoch [18/20], Train Loss: 0.0408\n",
      "Validation Loss: 0.1006, Accuracy: 96.83%, Hard Accuracy: 77.94%\n",
      "Epoch [19/20], Train Loss: 0.0421\n",
      "Validation Loss: 0.0948, Accuracy: 97.16%, Hard Accuracy: 81.08%\n",
      "Epoch [20/20], Train Loss: 0.0347\n",
      "Validation Loss: 0.0907, Accuracy: 97.37%, Hard Accuracy: 82.95%\n"
     ]
    }
   ],
   "source": [
    "\n",
    "il.reload(clm)\n",
    " # Train the model\n",
    "model, optimizer, avg_train_loss, avg_val_loss, accuracy, hard_accuracy, train_losses, val_losses, cm, misclassified_images = clm.train_model1(device, model, train_loader, val_loader, num_epochs, learning_rate)"
   ]
  },
  {
   "cell_type": "code",
   "execution_count": 58,
   "metadata": {},
   "outputs": [
    {
     "name": "stdout",
     "output_type": "stream",
     "text": [
      "Model saved successfully as ChocolateCNN at classification_models/CNN_3.pth\n"
     ]
    }
   ],
   "source": [
    "il.reload(clm)\n",
    "# Define the save path\n",
    "save_path = 'classification_models/CNN_3.pth'\n",
    "\n",
    "# Create the directory if it does not exist\n",
    "\n",
    "os.makedirs('classification_models', exist_ok=True)\n",
    "\n",
    "clm.save_model(model, optimizer, num_epochs, avg_train_loss, avg_val_loss, accuracy, hard_accuracy, train_losses, val_losses, cm, val_indices, misclassified_images, save_path)"
   ]
  },
  {
   "cell_type": "code",
   "execution_count": 72,
   "metadata": {},
   "outputs": [
    {
     "name": "stdout",
     "output_type": "stream",
     "text": [
      "ChocolateCNN\n",
      "ChocolateCNN\n",
      "Loaded model type: ChocolateCNN, epoch: 20, validation accuracy: 97.37076648841355%\n"
     ]
    },
    {
     "data": {
      "image/png": "[encoded data removed]",
      "text/plain": [
       "<Figure size 1200x600 with 1 Axes>"
      ]
     },
     "metadata": {},
     "output_type": "display_data"
    }
   ],
   "source": [
    "il.reload(clm)\n",
    "# Define the device \n",
    "device = torch.device(\"cuda\" if torch.cuda.is_available() else \"cpu\")\n",
    "\n",
    "# Path to your saved model\n",
    "model_path = 'classification_models/CNN_3.pth'\n",
    "\n",
    "# Load the model, optimizer, and metadata\n",
    "# model, optimizer, metadata = clm.load_model_with_metadata(model_path, device)\n",
    "model, optimizer, metadata, input_size = clm.load_model_with_metadata1(model_path, device)\n",
    "# Access metadata \n",
    "num_epochs = metadata['epoch']\n",
    "model_type = metadata['model_type']\n",
    "train_loss = metadata['train_loss']\n",
    "val_loss = metadata['val_loss']\n",
    "accuracy = metadata['Accuracy']\n",
    "hard_accuracy = metadata['Hard_Accuracy']\n",
    "# hard_accuracy = metadata['Hard_Accuracy']\n",
    "\n",
    "# Reconstruct the validation DataLoader using val_indices\n",
    "val_indices = metadata['val_indices']\n",
    "transform = transforms.Compose([\n",
    "        transforms.Resize(input_size),  # Resize images \n",
    "        transforms.ToTensor(),\n",
    "    ])\n",
    "loaded_dataset = clm.CustomImageDatasetFromCSV(root_dir='./results', combined_df=combined_df, transform=transform)\n",
    "val_dataset = torch.utils.data.Subset(loaded_dataset, val_indices)\n",
    "val_loader = DataLoader(val_dataset, batch_size=32, shuffle=False)\n",
    "\n",
    "# Plot training and validation losses\n",
    "clm.plot_losses(metadata['train_losses'], metadata['val_losses'])\n",
    "\n",
    "# Plot confusion matrix using stored data\n",
    "# clm.plot_confusion_matrix(metadata['confusion_matrix'], class_names=[0, 1, 2, 3, 4, 5, 6, 7, 8])\n",
    "\n",
    "# Display misclassified images\n",
    "# clm.show_misclassified_images(metadata['misclassified_images'], num_images=20)\n"
   ]
  },
  {
   "cell_type": "code",
   "execution_count": null,
   "metadata": {},
   "outputs": [],
   "source": [
    "# Prepare data for plotting confusion matrices\n",
    "all_labels = []\n",
    "all_predictions = []\n",
    "\n",
    "# Collect all true labels and predicted labels for the validation set\n",
    "with torch.no_grad():\n",
    "    for images, labels in val_loader:\n",
    "        images, labels = images.to(device), labels.to(device).float()\n",
    "        outputs = model(images)\n",
    "        predicted = (outputs > 0.5).float()\n",
    "\n",
    "        all_labels.append(labels.cpu().numpy())\n",
    "        all_predictions.append(predicted.cpu().numpy())\n",
    "\n",
    "# Stack all collected labels and predictions into arrays\n",
    "all_labels = np.vstack(all_labels)\n",
    "all_predictions = np.vstack(all_predictions)\n",
    "\n",
    "# Plot confusion matrices for each label\n",
    "clm.plot_multi_label_confusion_matrix(all_labels, all_predictions, label_names)"
   ]
  },
  {
   "cell_type": "code",
   "execution_count": 73,
   "metadata": {},
   "outputs": [
    {
     "name": "stdout",
     "output_type": "stream",
     "text": [
      "tensor([[    0.0001,     0.0000,     0.0096,     0.0000,     0.0011,     0.0211,\n",
      "             0.0359,     0.0432,     0.7906]], device='cuda:0')\n",
      "tensor([[    0.0002,     0.0000,     0.0007,     0.8755,     0.0000,     0.0104,\n",
      "             0.0000,     0.0000,     0.0000]], device='cuda:0')\n",
      "tensor([[    0.0000,     0.0000,     1.0000,     0.0000,     0.0000,     0.0000,\n",
      "             0.0000,     0.0000,     0.0000]], device='cuda:0')\n",
      "tensor([[    0.0000,     0.0000,     1.0000,     0.0000,     0.0000,     0.0000,\n",
      "             0.0000,     0.0000,     0.0000]], device='cuda:0')\n",
      "tensor([[    0.0000,     0.0000,     1.0000,     0.0000,     0.0000,     0.0000,\n",
      "             0.0000,     0.0000,     0.0000]], device='cuda:0')\n",
      "tensor([[    0.0000,     0.0000,     1.0000,     0.0000,     0.0000,     0.0000,\n",
      "             0.0001,     0.0000,     0.0000]], device='cuda:0')\n",
      "tensor([[    0.0000,     0.0000,     0.0000,     0.0000,     1.0000,     0.0000,\n",
      "             0.0000,     0.0000,     0.0000]], device='cuda:0')\n",
      "tensor([[    0.0000,     0.0000,     1.0000,     0.0000,     0.0000,     0.0000,\n",
      "             0.0000,     0.0000,     0.0000]], device='cuda:0')\n",
      "tensor([[    0.0000,     0.0000,     1.0000,     0.0000,     0.0000,     0.0000,\n",
      "             0.0000,     0.0000,     0.0000]], device='cuda:0')\n",
      "tensor([[    0.0000,     0.0000,     0.0000,     0.0000,     1.0000,     0.0000,\n",
      "             0.0000,     0.0000,     0.0000]], device='cuda:0')\n",
      "tensor([[    0.0000,     0.0000,     1.0000,     0.0000,     0.0000,     0.0000,\n",
      "             0.4563,     0.0000,     0.0000]], device='cuda:0')\n",
      "tensor([[    0.0092,     0.9110,     0.0162,     0.0006,     0.0002,     0.0025,\n",
      "             0.1268,     0.0000,     0.0004]], device='cuda:0')\n",
      "tensor([[    0.0045,     0.1424,     0.5363,     0.0454,     0.0018,     0.3223,\n",
      "             0.1590,     0.0004,     0.0026]], device='cuda:0')\n"
     ]
    }
   ],
   "source": [
    "il.reload(clm)\n",
    "image_folder_path = './predict_inputs'\n",
    "output_csv_path = 'predictions.csv'\n",
    "\n",
    "\n",
    "# Define the transform (resize images to the expected input size)\n",
    "# input_size = (100, 25) if metadata['model_type'] == 'ChocolateCNN' else (224, 224)\n",
    "# transform = transforms.Compose([\n",
    "#     transforms.Resize(input_size),\n",
    "#     transforms.ToTensor(),\n",
    "# ])\n",
    "\n",
    "# Make predictions and display images\n",
    "predictions_df = clm.make_predictions(model, device, image_folder_path, transform, labels_names, output_csv_path)\n",
    "# print(predictions_df.head())\n"
   ]
  }
 ],
 "metadata": {
  "kernelspec": {
   "display_name": "Python 3.10.8 ('univenv': venv)",
   "language": "python",
   "name": "python3"
  },
  "language_info": {
   "codemirror_mode": {
    "name": "ipython",
    "version": 3
   },
   "file_extension": ".py",
   "mimetype": "text/x-python",
   "name": "python",
   "nbconvert_exporter": "python",
   "pygments_lexer": "ipython3",
   "version": "3.10.8"
  },
  "orig_nbformat": 4,
  "vscode": {
   "interpreter": {
    "hash": "1ccd40bcc000b7a7cf40402755891779d0f67280314eb8adf598b00e0d55ca52"
   }
  }
 },
 "nbformat": 4,
 "nbformat_minor": 2
}
